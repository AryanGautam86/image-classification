{
 "cells": [
  {
   "cell_type": "markdown",
   "id": "c709276d-316c-40c4-9353-5afd2e530046",
   "metadata": {},
   "source": [
    "## prediction"
   ]
  },
  {
   "cell_type": "code",
   "execution_count": 1,
   "id": "06b77cf7-ca48-486e-87a9-1e2372307774",
   "metadata": {},
   "outputs": [],
   "source": [
    "from tensorflow.keras.models import load_model\n",
    "from tensorflow.keras.preprocessing import image\n",
    "import numpy as np\n",
    "model=load_model('model_cat_dog.keras')"
   ]
  },
  {
   "cell_type": "code",
   "execution_count": 2,
   "id": "272c4d18-bcc2-43d7-95e4-fd87990d4f02",
   "metadata": {},
   "outputs": [
    {
     "name": "stdout",
     "output_type": "stream",
     "text": [
      "\u001b[1m1/1\u001b[0m \u001b[32m━━━━━━━━━━━━━━━━━━━━\u001b[0m\u001b[37m\u001b[0m \u001b[1m0s\u001b[0m 162ms/step\n",
      "Predicted: Dog --> 0.9729286432266235\n"
     ]
    }
   ],
   "source": [
    "img_path = 'dog.90.jpg' \n",
    "img = image.load_img(img_path, target_size=(64, 64))\n",
    "img_array = image.img_to_array(img) / 255.0\n",
    "img_array = np.expand_dims(img_array, axis=0)  # Add batch dimension\n",
    "\n",
    "# Make Prediction\n",
    "result = model.predict(img_array)\n",
    "if result[0][0] < 0.5:\n",
    "    print(f\"Predicted:cat --> {result[0][0]}\")\n",
    "else:\n",
    "    print(f\"Predicted: Dog --> {result[0][0]}\")"
   ]
  },
  {
   "cell_type": "code",
   "execution_count": 3,
   "id": "64c87b9c-9c0f-457e-a197-5fe6a6957c96",
   "metadata": {},
   "outputs": [
    {
     "name": "stdout",
     "output_type": "stream",
     "text": [
      "\u001b[1m1/1\u001b[0m \u001b[32m━━━━━━━━━━━━━━━━━━━━\u001b[0m\u001b[37m\u001b[0m \u001b[1m0s\u001b[0m 52ms/step\n",
      "Predicted:cat --> 0.0007832677802070975\n"
     ]
    }
   ],
   "source": [
    "img_path = 'cat.10.jpg' \n",
    "img = image.load_img(img_path, target_size=(64, 64))\n",
    "img_array = image.img_to_array(img) / 255.0\n",
    "img_array = np.expand_dims(img_array, axis=0)  # Add batch dimension\n",
    "\n",
    "# Make Prediction\n",
    "result = model.predict(img_array)\n",
    "if result[0][0] < 0.5:\n",
    "    print(f\"Predicted:cat --> {result[0][0]}\")\n",
    "else:\n",
    "    print(f\"Predicted: Dog --> {result[0][0]}\")"
   ]
  }
 ],
 "metadata": {
  "kernelspec": {
   "display_name": "Python 3 (ipykernel)",
   "language": "python",
   "name": "python3"
  },
  "language_info": {
   "codemirror_mode": {
    "name": "ipython",
    "version": 3
   },
   "file_extension": ".py",
   "mimetype": "text/x-python",
   "name": "python",
   "nbconvert_exporter": "python",
   "pygments_lexer": "ipython3",
   "version": "3.12.2"
  }
 },
 "nbformat": 4,
 "nbformat_minor": 5
}
